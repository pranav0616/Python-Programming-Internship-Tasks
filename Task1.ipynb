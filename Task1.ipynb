{
 "cells": [
  {
   "cell_type": "code",
   "execution_count": 1,
   "id": "64f283ab-01fb-4cb4-b3e6-910edc9b389a",
   "metadata": {},
   "outputs": [
    {
     "name": "stdout",
     "output_type": "stream",
     "text": [
      "Name: Pranav\n",
      "Roll No.: 44\n",
      "\n"
     ]
    }
   ],
   "source": [
    "#Variables\n",
    "roll_no = 44\n",
    "name = \"Pranav\"\n",
    "is_student = True\n",
    "print(f\"Name: {name}\\nRoll No.: {roll_no}\\n\")"
   ]
  },
  {
   "cell_type": "code",
   "execution_count": 20,
   "id": "bcb1e6bc-b7a7-4744-b5f8-bfc49f978452",
   "metadata": {},
   "outputs": [
    {
     "name": "stdout",
     "output_type": "stream",
     "text": [
      "Addition: 30\n",
      "Subtraction: -10\n",
      "Multiplication: 200\n",
      "Division: 0.5\n",
      "Modulo: 10\n"
     ]
    }
   ],
   "source": [
    "#Arithmetic operations\n",
    "a = 10\n",
    "b = 20\n",
    "c = a + b\n",
    "d = a - b\n",
    "e = a * b\n",
    "f = a / b\n",
    "g = a % b\n",
    "print(f\"Addition: {c}\\nSubtraction: {d}\\nMultiplication: {e}\\nDivision: {f}\\nModulo: {g}\")"
   ]
  },
  {
   "cell_type": "code",
   "execution_count": 9,
   "id": "a1c2ee9d-6e6d-416f-96a9-3b2b944c4d95",
   "metadata": {},
   "outputs": [
    {
     "name": "stdout",
     "output_type": "stream",
     "text": [
      "1\n",
      "2\n",
      "3\n",
      "4\n",
      "5\n",
      "6\n",
      "7\n",
      "8\n",
      "9\n"
     ]
    }
   ],
   "source": [
    "#Loops\n",
    "list = [1,2,3,4,5]\n",
    "for i in list:\n",
    "    print(i)\n",
    "i = 6\n",
    "while i < 10:\n",
    "    print(i)\n",
    "    i += 1"
   ]
  },
  {
   "cell_type": "code",
   "execution_count": 31,
   "id": "ce48db40-70da-41aa-b397-16142de9646f",
   "metadata": {},
   "outputs": [
    {
     "name": "stdout",
     "output_type": "stream",
     "text": [
      "Good Morning\n",
      "good morning\n",
      "Good MorningGood MorningGood Morning\n"
     ]
    },
    {
     "data": {
      "text/plain": [
       "'Good Afternoon'"
      ]
     },
     "execution_count": 31,
     "metadata": {},
     "output_type": "execute_result"
    }
   ],
   "source": [
    "#String manipulation\n",
    "str1 = \"Good\"\n",
    "str2 = \"Morning\"\n",
    "conc = str1 + \" \" + str2\n",
    "print(conc)\n",
    "print(conc.lower())\n",
    "print(conc * 3)\n",
    "conc.replace(\"Morning\" , \"Afternoon\")"
   ]
  },
  {
   "cell_type": "code",
   "execution_count": 38,
   "id": "59ebe95f-a6cb-4420-bda1-a3bdd6c51e35",
   "metadata": {},
   "outputs": [
    {
     "name": "stdout",
     "output_type": "stream",
     "text": [
      "a is even and divisible by 5\n"
     ]
    }
   ],
   "source": [
    "#Conditional statements\n",
    "a=10\n",
    "if a % 2 == 0:\n",
    "    if a % 5 == 0:\n",
    "        print(\"a is even and divisible by 5\")\n",
    "    else:\n",
    "        print(\"a is even\")\n",
    "else:\n",
    "    if a % 5 == 0:\n",
    "        print(\"a is odd and divisible by 5\")\n",
    "    else:\n",
    "        print(\"a is odd\")"
   ]
  },
  {
   "cell_type": "code",
   "execution_count": 11,
   "id": "23f048d9-2ea1-4bc8-99de-2baef6b6ab5c",
   "metadata": {},
   "outputs": [
    {
     "name": "stdout",
     "output_type": "stream",
     "text": [
      "Student Name: Pranav\n"
     ]
    }
   ],
   "source": [
    "#Function\n",
    "def getInfo(name):\n",
    "    return \"Student Name: \" + name\n",
    "name = \"Pranav\"\n",
    "print(getInfo(name))"
   ]
  },
  {
   "cell_type": "code",
   "execution_count": 43,
   "id": "314060ce-e7be-4e85-801e-91d9f6a6464c",
   "metadata": {},
   "outputs": [
    {
     "name": "stdout",
     "output_type": "stream",
     "text": [
      "[1, 2, 3, 4, 5, 6]\n",
      "[1, 2, 3, 5, 6]\n",
      "[1, 2, 3, 5, 'Hello', 'Everyone']\n"
     ]
    }
   ],
   "source": [
    "#Lists\n",
    "my_list = [1,2,3,4,5]\n",
    "my_list.insert(5,6)\n",
    "print(my_list)\n",
    "my_list.remove(4)\n",
    "print(my_list)\n",
    "my_list[4] = \"Hello\"\n",
    "my_list.append(\"Everyone\")\n",
    "print(my_list)"
   ]
  },
  {
   "cell_type": "code",
   "execution_count": 14,
   "id": "04913e6f-500b-4394-8852-54fcc0a56f0f",
   "metadata": {},
   "outputs": [
    {
     "name": "stdout",
     "output_type": "stream",
     "text": [
      "{'name': 'Pranav', 'rollno': 44, 'age': 20, 'city': 'Kolhapur'}\n",
      "{'name': 'Pranav', 'age': 21, 'city': 'Kolhapur', 'Language': 'English'}\n"
     ]
    }
   ],
   "source": [
    "#Dictionaries\n",
    "dict = {\"name\" : \"Pranav\", \"rollno\" : 44, \"age\" : 20, \"city\" : \"Kolhapur\"}\n",
    "print(dict)\n",
    "del dict[\"rollno\"]\n",
    "dict[\"Language\"] = \"English\"\n",
    "dict[\"age\"] = 21\n",
    "print(dict)"
   ]
  },
  {
   "cell_type": "code",
   "execution_count": 18,
   "id": "4da4bb34-7bef-4cf7-b051-76d9be435519",
   "metadata": {},
   "outputs": [
    {
     "name": "stdout",
     "output_type": "stream",
     "text": [
      "(1, 2, 4)\n",
      "(1, 2, 3)\n",
      "(0, 2, 3)\n"
     ]
    }
   ],
   "source": [
    "#Tuples\n",
    "tuple = (1,2,4)\n",
    "print(tuple)\n",
    "num = 3\n",
    "tuple = tuple[:2] + (num,) + tuple[2:]\n",
    "tuple = tuple[:3]\n",
    "print(tuple)\n",
    "num = 0 \n",
    "tuple = (num,) + tuple[1:]\n",
    "print(tuple)"
   ]
  },
  {
   "cell_type": "code",
   "execution_count": null,
   "id": "851e3999-d377-491b-8ec7-4ff8ed59a93a",
   "metadata": {},
   "outputs": [],
   "source": []
  }
 ],
 "metadata": {
  "kernelspec": {
   "display_name": "Python 3 (ipykernel)",
   "language": "python",
   "name": "python3"
  },
  "language_info": {
   "codemirror_mode": {
    "name": "ipython",
    "version": 3
   },
   "file_extension": ".py",
   "mimetype": "text/x-python",
   "name": "python",
   "nbconvert_exporter": "python",
   "pygments_lexer": "ipython3",
   "version": "3.11.7"
  }
 },
 "nbformat": 4,
 "nbformat_minor": 5
}
